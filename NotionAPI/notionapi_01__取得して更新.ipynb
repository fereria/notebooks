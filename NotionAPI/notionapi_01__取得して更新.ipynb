{
 "cells": [
  {
   "cell_type": "code",
   "execution_count": 1,
   "metadata": {},
   "outputs": [],
   "source": [
    "from notion_client import Client"
   ]
  },
  {
   "cell_type": "code",
   "execution_count": 2,
   "metadata": {},
   "outputs": [],
   "source": [
    "# Clientを作る TOKENは事前にページで作成しておく\n",
    "with open(\"./token.txt\",'r') as f:\n",
    "    TOKEN = f.readline()\n",
    "    \n",
    "notion = Client(auth=TOKEN)"
   ]
  },
  {
   "cell_type": "code",
   "execution_count": 3,
   "metadata": {},
   "outputs": [],
   "source": [
    "# NotionのページのURLから、検索したいDatabaseのIDを取得して\n",
    "# DB内のDataを取得する\n",
    "# Filterを指定したい場合は、Jsonで条件を指定できる。\n",
    "# property で名前、PropertyType: {'条件':式}\n",
    "results = notion.databases.query(\n",
    "        **{\n",
    "            'database_id' : 'd6f7115afc4549a092dede3a56a24f90',\n",
    "            \"filter\": {\n",
    "                \"property\": \"Date\",\n",
    "                \"date\": {\n",
    "                    \"equals\": \"2022-01-12\",\n",
    "                },\n",
    "            }\n",
    "        }\n",
    "    )\n"
   ]
  },
  {
   "cell_type": "code",
   "execution_count": 67,
   "metadata": {},
   "outputs": [
    {
     "name": "stdout",
     "output_type": "stream",
     "text": [
      "{'id': 'CBL%3B', 'type': 'date', 'date': {'start': '2021-11-06T00:00:00.000+09:00', 'end': '2021-11-06T00:00:00.000+09:00', 'time_zone': None}}\n",
      "{'id': 'pWX%7C', 'type': 'date', 'date': {'start': '2022-01-12', 'end': None, 'time_zone': None}}\n"
     ]
    }
   ],
   "source": [
    "# database以下のPagesを取得できるので、取得したいPropertyを取得できる\n",
    "for i in results['results']:\n",
    "    print(i['properties']['WorkTime'])\n",
    "    print(i['properties']['Date'])"
   ]
  },
  {
   "cell_type": "code",
   "execution_count": 39,
   "metadata": {},
   "outputs": [
    {
     "data": {
      "text/plain": [
       "{'object': 'page',\n",
       " 'id': '375eed25-949b-40a3-8927-8de84caee787',\n",
       " 'created_time': '2021-11-05T15:41:00.000Z',\n",
       " 'last_edited_time': '2022-01-11T15:33:00.000Z',\n",
       " 'cover': None,\n",
       " 'icon': None,\n",
       " 'parent': {'type': 'database_id',\n",
       "  'database_id': 'd6f7115a-fc45-49a0-92de-de3a56a24f90'},\n",
       " 'archived': False,\n",
       " 'properties': {'WorkTime': {'id': 'CBL%3B',\n",
       "   'type': 'date',\n",
       "   'date': {'start': '2021-11-06T00:00:00.000+09:00',\n",
       "    'end': '2021-11-06T00:00:00.000+09:00',\n",
       "    'time_zone': None}},\n",
       "  'Name': {'id': 'title',\n",
       "   'type': 'title',\n",
       "   'title': [{'type': 'text',\n",
       "     'text': {'content': 'hoge', 'link': None},\n",
       "     'annotations': {'bold': False,\n",
       "      'italic': False,\n",
       "      'strikethrough': False,\n",
       "      'underline': False,\n",
       "      'code': False,\n",
       "      'color': 'default'},\n",
       "     'plain_text': 'hoge',\n",
       "     'href': None}]}},\n",
       " 'url': 'https://www.notion.so/hoge-375eed25949b40a389278de84caee787'}"
      ]
     },
     "execution_count": 39,
     "metadata": {},
     "output_type": "execute_result"
    }
   ],
   "source": [
    "# 検索したDBのあるPageを更新したい\n",
    "# page_id は、 query したときの id から - をなくしたもの。\n",
    "notion.pages.update(**{\n",
    "    'page_id': results['results'][0]['id'].replace(\"-\",\"\"),\n",
    "    \"properties\": {\n",
    "                \"Name\": {\n",
    "                    \"title\": [\n",
    "                        {\n",
    "                            \"text\": {\n",
    "                                \"content\": \"hoge\"\n",
    "                            }\n",
    "                        }\n",
    "                    ]\n",
    "                }\n",
    "            }\n",
    "    }\n",
    ")"
   ]
  },
  {
   "cell_type": "code",
   "execution_count": 5,
   "metadata": {},
   "outputs": [
    {
     "data": {
      "text/plain": [
       "{'object': 'page',\n",
       " 'id': '375eed25-949b-40a3-8927-8de84caee787',\n",
       " 'created_time': '2021-11-05T15:41:00.000Z',\n",
       " 'last_edited_time': '2022-01-11T16:36:00.000Z',\n",
       " 'cover': None,\n",
       " 'icon': None,\n",
       " 'parent': {'type': 'database_id',\n",
       "  'database_id': 'd6f7115a-fc45-49a0-92de-de3a56a24f90'},\n",
       " 'archived': False,\n",
       " 'properties': {'WorkTime': {'id': 'CBL%3B',\n",
       "   'type': 'date',\n",
       "   'date': {'start': '2021-11-13T00:00:00.000+09:00',\n",
       "    'end': None,\n",
       "    'time_zone': None}},\n",
       "  'Date': {'id': 'pWX%7C',\n",
       "   'type': 'date',\n",
       "   'date': {'start': '2022-01-12', 'end': None, 'time_zone': None}},\n",
       "  'Name': {'id': 'title',\n",
       "   'type': 'title',\n",
       "   'title': [{'type': 'text',\n",
       "     'text': {'content': 'hoge', 'link': None},\n",
       "     'annotations': {'bold': False,\n",
       "      'italic': False,\n",
       "      'strikethrough': False,\n",
       "      'underline': False,\n",
       "      'code': False,\n",
       "      'color': 'default'},\n",
       "     'plain_text': 'hoge',\n",
       "     'href': None}]}},\n",
       " 'url': 'https://www.notion.so/hoge-375eed25949b40a389278de84caee787'}"
      ]
     },
     "execution_count": 5,
     "metadata": {},
     "output_type": "execute_result"
    }
   ],
   "source": [
    "notion.pages.update(**{\n",
    "    'page_id': results['results'][0]['id'].replace(\"-\",\"\"),\n",
    "    \"properties\": {\n",
    "                \"WorkTime\": {\n",
    "                    'date':{\n",
    "                        'start': '2021-11-13T00:00:00.000+09:00'\n",
    "                    }\n",
    "                }\n",
    "            }\n",
    "    }\n",
    ")"
   ]
  },
  {
   "cell_type": "code",
   "execution_count": null,
   "metadata": {},
   "outputs": [],
   "source": []
  }
 ],
 "metadata": {
  "interpreter": {
   "hash": "90ad37beec7e816fa6224594e71540722bf31854ba11f3943a77de50e81485ba"
  },
  "kernelspec": {
   "display_name": "Python 3.7.7 64-bit",
   "language": "python",
   "name": "python3"
  },
  "language_info": {
   "codemirror_mode": {
    "name": "ipython",
    "version": 3
   },
   "file_extension": ".py",
   "mimetype": "text/x-python",
   "name": "python",
   "nbconvert_exporter": "python",
   "pygments_lexer": "ipython3",
   "version": "3.7.7"
  },
  "orig_nbformat": 4
 },
 "nbformat": 4,
 "nbformat_minor": 2
}
