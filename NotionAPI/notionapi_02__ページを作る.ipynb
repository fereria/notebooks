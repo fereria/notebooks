{
 "cells": [
  {
   "cell_type": "code",
   "execution_count": 1,
   "metadata": {},
   "outputs": [],
   "source": [
    "from notion_client import Client\n",
    "\n",
    "with open(\"./token.txt\",'r') as f:\n",
    "    TOKEN = f.readline()\n",
    "    \n",
    "notion = Client(auth=TOKEN)"
   ]
  },
  {
   "cell_type": "code",
   "execution_count": 2,
   "metadata": {},
   "outputs": [],
   "source": [
    "pages = notion.pages.create(**{\n",
    "    \"parent\": {\"database_id\": \"d6f7115afc4549a092dede3a56a24f90\"},\n",
    "    \"properties\": {\n",
    "        \"Date\":{\n",
    "            \"date\":{\n",
    "                \"start\":\"2022-01-14\"\n",
    "            }\n",
    "        }\n",
    "    }\n",
    "})"
   ]
  },
  {
   "cell_type": "code",
   "execution_count": 5,
   "metadata": {},
   "outputs": [],
   "source": [
    "ID = pages['id'].replace('-','')"
   ]
  },
  {
   "cell_type": "code",
   "execution_count": 10,
   "metadata": {},
   "outputs": [],
   "source": [
    "blocks = notion.blocks.children.list(block_id=ID)"
   ]
  },
  {
   "cell_type": "code",
   "execution_count": 11,
   "metadata": {},
   "outputs": [
    {
     "name": "stdout",
     "output_type": "stream",
     "text": [
      "{'object': 'list', 'results': [{'object': 'block', 'id': '15b381ba-2673-452b-8750-50ebf1672193', 'created_time': '2022-01-13T16:41:00.000Z', 'last_edited_time': '2022-01-13T16:41:00.000Z', 'has_children': False, 'archived': False, 'type': 'paragraph', 'paragraph': {'text': [{'type': 'text', 'text': {'content': 'aaa', 'link': None}, 'annotations': {'bold': False, 'italic': False, 'strikethrough': False, 'underline': False, 'code': False, 'color': 'default'}, 'plain_text': 'aaa', 'href': None}]}}, {'object': 'block', 'id': '3047823b-4a6c-476a-9b31-d3ad1afcb16e', 'created_time': '2022-01-13T16:41:00.000Z', 'last_edited_time': '2022-01-13T16:41:00.000Z', 'has_children': False, 'archived': False, 'type': 'paragraph', 'paragraph': {'text': []}}], 'next_cursor': None, 'has_more': False}\n"
     ]
    }
   ],
   "source": [
    "print(blocks)"
   ]
  },
  {
   "cell_type": "code",
   "execution_count": 16,
   "metadata": {},
   "outputs": [],
   "source": [
    "blocks: list = [\n",
    "     {\n",
    "         \"object\": \"block\",\n",
    "         \"type\": \"heading_2\",\n",
    "         \"heading_2\": {\n",
    "                 \"text\": [\n",
    "                     {\"type\": \"text\", \"text\": {\"content\": \"H2_TITLE\"}}\n",
    "                 ]\n",
    "         }\n",
    "     }\n",
    "]\n"
   ]
  },
  {
   "cell_type": "code",
   "execution_count": 17,
   "metadata": {},
   "outputs": [
    {
     "data": {
      "text/plain": [
       "{'object': 'list',\n",
       " 'results': [{'object': 'block',\n",
       "   'id': 'd76a8431-582c-4835-b5eb-53728c360326',\n",
       "   'created_time': '2022-01-13T16:45:00.000Z',\n",
       "   'last_edited_time': '2022-01-13T16:45:00.000Z',\n",
       "   'has_children': False,\n",
       "   'archived': False,\n",
       "   'type': 'heading_2',\n",
       "   'heading_2': {'text': [{'type': 'text',\n",
       "      'text': {'content': 'H2_TITLE', 'link': None},\n",
       "      'annotations': {'bold': False,\n",
       "       'italic': False,\n",
       "       'strikethrough': False,\n",
       "       'underline': False,\n",
       "       'code': False,\n",
       "       'color': 'default'},\n",
       "      'plain_text': 'H2_TITLE',\n",
       "      'href': None}]}}],\n",
       " 'next_cursor': None,\n",
       " 'has_more': False}"
      ]
     },
     "execution_count": 17,
     "metadata": {},
     "output_type": "execute_result"
    }
   ],
   "source": [
    "notion.blocks.children.append(block_id=ID,children=blocks)"
   ]
  },
  {
   "cell_type": "code",
   "execution_count": null,
   "metadata": {},
   "outputs": [],
   "source": []
  }
 ],
 "metadata": {
  "interpreter": {
   "hash": "90ad37beec7e816fa6224594e71540722bf31854ba11f3943a77de50e81485ba"
  },
  "kernelspec": {
   "display_name": "Python 3.7.7 64-bit",
   "language": "python",
   "name": "python3"
  },
  "language_info": {
   "codemirror_mode": {
    "name": "ipython",
    "version": 3
   },
   "file_extension": ".py",
   "mimetype": "text/x-python",
   "name": "python",
   "nbconvert_exporter": "python",
   "pygments_lexer": "ipython3",
   "version": "3.7.7"
  },
  "orig_nbformat": 4
 },
 "nbformat": 4,
 "nbformat_minor": 2
}
