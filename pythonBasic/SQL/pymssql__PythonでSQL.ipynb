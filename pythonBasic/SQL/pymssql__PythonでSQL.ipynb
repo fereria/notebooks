{
 "cells": [
  {
   "cell_type": "code",
   "execution_count": 1,
   "metadata": {},
   "outputs": [],
   "source": [
    "import pymssql\n",
    "import json\n",
    "\n",
    "with open(\"account.json\",'r') as f:\n",
    "    data = json.load(f)"
   ]
  },
  {
   "cell_type": "code",
   "execution_count": 7,
   "metadata": {},
   "outputs": [
    {
     "name": "stdout",
     "output_type": "stream",
     "text": [
      "{'ID': 1, 'Name': 'hoge      ', 'Value': 10.0}\n",
      "{'ID': 2, 'Name': 'hoge      ', 'Value': None}\n",
      "{'ID': 3, 'Name': 'hoge      ', 'Value': None}\n",
      "{'ID': 4, 'Name': 'hoge      ', 'Value': None}\n",
      "{'ID': 6, 'Name': 'HOGE      ', 'Value': None}\n"
     ]
    }
   ],
   "source": [
    "conn = pymssql.connect(data['server'],data['name'],data['password'],data['database'])\n",
    "\n",
    "with conn.cursor(as_dict=True) as cursor:\n",
    "    cursor.execute('select * from sampleTable')\n",
    "    result = cursor.fetchall()\n",
    "    \n",
    "for i in result:\n",
    "    print(i)"
   ]
  },
  {
   "cell_type": "code",
   "execution_count": 4,
   "metadata": {},
   "outputs": [],
   "source": [
    "conn = pymssql.connect(data['server'],data['name'],data['password'],data['database'])\n",
    "\n",
    "with conn.cursor(as_dict=True) as cursor:\n",
    "    cursor.execute(\"INSERT INTO sampleTable (ID,Name) VALUES (6,'HOGE')\")\n",
    "    conn.commit()"
   ]
  },
  {
   "cell_type": "code",
   "execution_count": null,
   "metadata": {},
   "outputs": [],
   "source": []
  }
 ],
 "metadata": {
  "interpreter": {
   "hash": "72f8fe68ea22db33838c6be92ed4985d348560247eeaec091cda138c3f57c3e0"
  },
  "kernelspec": {
   "display_name": "Python 3.9.12 ('.venv': pipenv)",
   "language": "python",
   "name": "python3"
  },
  "language_info": {
   "codemirror_mode": {
    "name": "ipython",
    "version": 3
   },
   "file_extension": ".py",
   "mimetype": "text/x-python",
   "name": "python",
   "nbconvert_exporter": "python",
   "pygments_lexer": "ipython3",
   "version": "3.9.12"
  },
  "orig_nbformat": 4
 },
 "nbformat": 4,
 "nbformat_minor": 2
}
