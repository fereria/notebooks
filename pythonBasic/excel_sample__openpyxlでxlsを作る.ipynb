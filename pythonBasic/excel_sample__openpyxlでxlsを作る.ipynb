{
 "cells": [
  {
   "cell_type": "code",
   "execution_count": 1,
   "metadata": {},
   "outputs": [],
   "source": [
    "import openpyxl"
   ]
  },
  {
   "cell_type": "code",
   "execution_count": 23,
   "metadata": {},
   "outputs": [],
   "source": [
    "# 新しいWorkBookを作る\n",
    "wb = openpyxl.Workbook()"
   ]
  },
  {
   "cell_type": "code",
   "execution_count": 24,
   "metadata": {},
   "outputs": [
    {
     "name": "stdout",
     "output_type": "stream",
     "text": [
      "['Sheet']\n"
     ]
    }
   ],
   "source": [
    "# シート名\n",
    "print(wb.sheetnames)\n",
    "# シートを取得\n",
    "sheet = wb.worksheets[0]\n",
    "# あるいは\n",
    "# wb['Sheet']"
   ]
  },
  {
   "cell_type": "code",
   "execution_count": 25,
   "metadata": {},
   "outputs": [
    {
     "name": "stdout",
     "output_type": "stream",
     "text": [
      "('ほげほげ', 10)\n",
      "('ふがふが', 20)\n"
     ]
    }
   ],
   "source": [
    "for num,val in enumerate(['Name','Value']):\n",
    "    sheet.cell(1,num+1).value = val\n",
    "    \n",
    "    \n",
    "setValues = [('ほげほげ',10),\n",
    "             ('ふがふが',20)]\n",
    "\n",
    "for num,value in enumerate(setValues):\n",
    "    sheet.cell(num+2,1).value = value[0]\n",
    "    sheet.cell(num+2,2).value = value[1]\n",
    "\n",
    "# フィルタを作る\n",
    "sheet.auto_filter.ref = \"A1:B1\"\n"
   ]
  },
  {
   "cell_type": "code",
   "execution_count": 30,
   "metadata": {},
   "outputs": [
    {
     "name": "stdout",
     "output_type": "stream",
     "text": [
      "Name\n",
      "Value\n",
      "ほげほげ\n",
      "10\n",
      "ふがふが\n",
      "20\n",
      "ほげほげ\n",
      "10\n",
      "ふがふが\n",
      "20\n"
     ]
    }
   ],
   "source": [
    "# シート内の値があるセルの情報をすべて読み取る\n",
    "for row in sheet.rows:\n",
    "    for column in row:\n",
    "        print(column.value)\n",
    "        \n",
    "# 範囲指定する\n",
    "# 1行目は名前なので無視したいような場合\n",
    "for row in sheet.iter_rows(min_row=2):\n",
    "    # 2行目から\n",
    "    for column in row:\n",
    "        print(column.value)"
   ]
  },
  {
   "cell_type": "code",
   "execution_count": 31,
   "metadata": {},
   "outputs": [],
   "source": [
    "# 関数を入れる\n",
    "sheet['B4'].value = \"=SUM(B2:B3)\""
   ]
  },
  {
   "cell_type": "code",
   "execution_count": 32,
   "metadata": {},
   "outputs": [],
   "source": [
    "# 保存\n",
    "wb.save(\"sample.xls\")"
   ]
  }
 ],
 "metadata": {
  "interpreter": {
   "hash": "90ad37beec7e816fa6224594e71540722bf31854ba11f3943a77de50e81485ba"
  },
  "kernelspec": {
   "display_name": "Python 3.7.7 64-bit",
   "language": "python",
   "name": "python3"
  },
  "language_info": {
   "codemirror_mode": {
    "name": "ipython",
    "version": 3
   },
   "file_extension": ".py",
   "mimetype": "text/x-python",
   "name": "python",
   "nbconvert_exporter": "python",
   "pygments_lexer": "ipython3",
   "version": "3.7.7"
  },
  "orig_nbformat": 4
 },
 "nbformat": 4,
 "nbformat_minor": 2
}
