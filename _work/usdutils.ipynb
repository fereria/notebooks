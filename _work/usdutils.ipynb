{
 "metadata": {
  "language_info": {
   "codemirror_mode": {
    "name": "ipython",
    "version": 3
   },
   "file_extension": ".py",
   "mimetype": "text/x-python",
   "name": "python",
   "nbconvert_exporter": "python",
   "pygments_lexer": "ipython3",
   "version": "3.7.7"
  },
  "orig_nbformat": 2,
  "kernelspec": {
   "name": "python3",
   "display_name": "Python 3.7.7 64-bit"
  },
  "interpreter": {
   "hash": "90ad37beec7e816fa6224594e71540722bf31854ba11f3943a77de50e81485ba"
  }
 },
 "nbformat": 4,
 "nbformat_minor": 2,
 "cells": [
  {
   "cell_type": "code",
   "execution_count": 1,
   "source": [
    "from pxr import Ar,Sdf,Tf,Usd,UsdUtils"
   ],
   "outputs": [],
   "metadata": {}
  },
  {
   "cell_type": "code",
   "execution_count": 2,
   "source": [
    "stage = Usd.Stage.Open(r\"D:\\Kitchen_set\\Kitchen_set.usd\")"
   ],
   "outputs": [
    {
     "output_type": "error",
     "ename": "ErrorException",
     "evalue": "\n\tError in 'pxrInternal_v0_21__pxrReserved__::UsdStage::Open' at line 853 in file D:\\a\\1\\s\\pxr\\usd\\usd\\stage.cpp : 'Failed to open layer @D:\\Kitchen_set\\Kitchen_set.usd@'",
     "traceback": [
      "\u001b[1;31m---------------------------------------------------------------------------\u001b[0m",
      "\u001b[1;31mErrorException\u001b[0m                            Traceback (most recent call last)",
      "\u001b[1;32m<ipython-input-2-a7c95718b875>\u001b[0m in \u001b[0;36m<module>\u001b[1;34m\u001b[0m\n\u001b[1;32m----> 1\u001b[1;33m \u001b[0mstage\u001b[0m \u001b[1;33m=\u001b[0m \u001b[0mUsd\u001b[0m\u001b[1;33m.\u001b[0m\u001b[0mStage\u001b[0m\u001b[1;33m.\u001b[0m\u001b[0mOpen\u001b[0m\u001b[1;33m(\u001b[0m\u001b[1;34mr\"D:\\Kitchen_set\\Kitchen_set.usd\"\u001b[0m\u001b[1;33m)\u001b[0m\u001b[1;33m\u001b[0m\u001b[1;33m\u001b[0m\u001b[0m\n\u001b[0m",
      "\u001b[1;31mErrorException\u001b[0m: \n\tError in 'pxrInternal_v0_21__pxrReserved__::UsdStage::Open' at line 853 in file D:\\a\\1\\s\\pxr\\usd\\usd\\stage.cpp : 'Failed to open layer @D:\\Kitchen_set\\Kitchen_set.usd@'"
     ]
    }
   ],
   "metadata": {}
  },
  {
   "cell_type": "code",
   "execution_count": 7,
   "source": [
    "prim = stage.GetPrimAtPath(\"/Kitchen_set/Arch_grp/Kitchen_1\")"
   ],
   "outputs": [],
   "metadata": {}
  },
  {
   "cell_type": "code",
   "execution_count": 22,
   "source": [
    "# AttributeからResolveInfoを取得\r\n",
    "for attr in prim.GetAttributes():\r\n",
    "    print(attr)\r\n",
    "    info = attr.GetResolveInfo()\r\n",
    "    print(info.GetNode())\r\n",
    "    print(info.GetSource())\r\n",
    "    print(info.ValueIsBlocked())"
   ],
   "outputs": [
    {
     "output_type": "stream",
     "name": "stdout",
     "text": [
      "Usd.Prim(</Kitchen_set/Arch_grp/Kitchen_1>).GetAttribute('purpose')\n",
      "<pxr.Pcp.NodeRef object at 0x0000025E79C8F570>\n",
      "Usd.ResolveInfoSourceFallback\n",
      "False\n",
      "Usd.Prim(</Kitchen_set/Arch_grp/Kitchen_1>).GetAttribute('visibility')\n",
      "<pxr.Pcp.NodeRef object at 0x0000025E79C8F570>\n",
      "Usd.ResolveInfoSourceFallback\n",
      "False\n",
      "Usd.Prim(</Kitchen_set/Arch_grp/Kitchen_1>).GetAttribute('xformOp:translate')\n",
      "<pxr.Pcp.NodeRef object at 0x0000025E79C8F570>\n",
      "Usd.ResolveInfoSourceDefault\n",
      "False\n",
      "Usd.Prim(</Kitchen_set/Arch_grp/Kitchen_1>).GetAttribute('xformOpOrder')\n",
      "<pxr.Pcp.NodeRef object at 0x0000025E79C8F570>\n",
      "Usd.ResolveInfoSourceDefault\n",
      "False\n"
     ]
    }
   ],
   "metadata": {}
  },
  {
   "cell_type": "code",
   "execution_count": 5,
   "source": [
    "print(r.GetCurrentContext())"
   ],
   "outputs": [
    {
     "output_type": "stream",
     "name": "stdout",
     "text": [
      "None\n"
     ]
    }
   ],
   "metadata": {}
  },
  {
   "cell_type": "code",
   "execution_count": 24,
   "source": [
    "ar = Ar.GetResolver()"
   ],
   "outputs": [],
   "metadata": {}
  },
  {
   "cell_type": "code",
   "execution_count": 26,
   "source": [
    "ar.Resolve(\"Kitchen_set\")"
   ],
   "outputs": [
    {
     "output_type": "execute_result",
     "data": {
      "text/plain": [
       "''"
      ]
     },
     "metadata": {},
     "execution_count": 26
    }
   ],
   "metadata": {}
  },
  {
   "cell_type": "code",
   "execution_count": 6,
   "source": [
    "a = 10\r\n",
    "\r\n",
    "a += 10"
   ],
   "outputs": [],
   "metadata": {}
  },
  {
   "cell_type": "code",
   "execution_count": null,
   "source": [],
   "outputs": [],
   "metadata": {}
  }
 ]
}