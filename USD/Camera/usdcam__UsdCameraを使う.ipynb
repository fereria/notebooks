{
 "cells": [
  {
   "cell_type": "code",
   "execution_count": 1,
   "metadata": {},
   "outputs": [],
   "source": [
    "from pxr import Usd,UsdGeom"
   ]
  },
  {
   "cell_type": "code",
   "execution_count": 5,
   "metadata": {},
   "outputs": [],
   "source": [
    "stage = Usd.Stage.Open(\"camera.usd\")\n",
    "prim = stage.GetPrimAtPath(\"/cameras/camera1\")"
   ]
  },
  {
   "cell_type": "code",
   "execution_count": null,
   "metadata": {},
   "outputs": [],
   "source": [
    "# UsdGeomCameraからGfCameraを取得する\n",
    "cam = UsdGeom.Camera(prim)\n",
    "# gfCameraはカメラの状態（特定の時間）を保持する\n",
    "gfCam = cam.GetCamera()"
   ]
  },
  {
   "cell_type": "code",
   "execution_count": 17,
   "metadata": {},
   "outputs": [
    {
     "name": "stdout",
     "output_type": "stream",
     "text": [
      "23.670164108276367\n",
      "13.445082664489746\n",
      "0.20954999327659607\n"
     ]
    }
   ],
   "source": [
    "# GetCameraで GfCameraを取得する。\n",
    "# GfCameraはカメラデータモデルのラッパー\n",
    "# 水平\n",
    "print(gfCam.horizontalFieldOfView)\n",
    "# 垂直\n",
    "print(gfCam.verticalFieldOfView)\n",
    "# あぱーちゃ\n",
    "print(gfCam.horizontalAperture)"
   ]
  },
  {
   "cell_type": "code",
   "execution_count": 18,
   "metadata": {},
   "outputs": [
    {
     "data": {
      "text/plain": [
       "0.5"
      ]
     },
     "execution_count": 18,
     "metadata": {},
     "output_type": "execute_result"
    }
   ],
   "source": [
    "# UsdGeomCameraではAttributeとしてアクセスする。\n",
    "cam.GetFocalLengthAttr().Get()\n",
    "# Projection/Aperture/focalLength/fStop/clippingRange Planes/xformOpOrder 等\n",
    "# GfCameraでまとめて値をセットしたりできる。\n",
    "# これまでのxformOpOrderを消去して xformOp:transform エントリーに置き換えるので\n",
    "# レイヤスタック内に現在編集中より強い xformOpOrderがあるとNG\n",
    "cam.SetFromCamera(gfCam)"
   ]
  },
  {
   "cell_type": "code",
   "execution_count": null,
   "metadata": {},
   "outputs": [],
   "source": []
  }
 ],
 "metadata": {
  "kernelspec": {
   "display_name": "Python 3.9.12 ('.venv': pipenv)",
   "language": "python",
   "name": "python3"
  },
  "language_info": {
   "codemirror_mode": {
    "name": "ipython",
    "version": 3
   },
   "file_extension": ".py",
   "mimetype": "text/x-python",
   "name": "python",
   "nbconvert_exporter": "python",
   "pygments_lexer": "ipython3",
   "version": "3.9.12"
  },
  "orig_nbformat": 4,
  "vscode": {
   "interpreter": {
    "hash": "72f8fe68ea22db33838c6be92ed4985d348560247eeaec091cda138c3f57c3e0"
   }
  }
 },
 "nbformat": 4,
 "nbformat_minor": 2
}
