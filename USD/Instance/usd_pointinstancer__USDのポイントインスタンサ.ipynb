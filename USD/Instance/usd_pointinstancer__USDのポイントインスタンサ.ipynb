{
 "cells": [
  {
   "cell_type": "code",
   "execution_count": 10,
   "metadata": {},
   "outputs": [],
   "source": [
    "from pxr import Usd,UsdGeom"
   ]
  },
  {
   "cell_type": "code",
   "execution_count": 7,
   "metadata": {},
   "outputs": [],
   "source": [
    "stage = Usd.Stage.Open(\"./instance_sample.usda\")"
   ]
  },
  {
   "cell_type": "code",
   "execution_count": 13,
   "metadata": {},
   "outputs": [],
   "source": [
    "prim = stage.GetPrimAtPath(\"/addpointinstancer1\")\n",
    "# インスタンサを取得\n",
    "pointInstancer = UsdGeom.PointInstancer(prim)\n",
    "\n",
    "# ポイント情報を取得\n",
    "positions = pointInstancer.GetPositionsAttr().Get()\n",
    "protoIndices = pointInstancer.GetProtoIndicesAttr().Get()\n",
    "\n",
    "# Prototype（PointInstancerで配置するオブジェクト）のSdfPathを取得\n",
    "protoPaths = pointInstancer.GetPrototypesRel().GetTargets()"
   ]
  },
  {
   "cell_type": "code",
   "execution_count": 41,
   "metadata": {},
   "outputs": [],
   "source": [
    "import json\n",
    "\n",
    "# PointInstancerの情報を、任意の JSON のフォーマットに変換する\n",
    "data = {\n",
    "    \"prototype\":[{\"fullPath\":str(x),'name':str(x).split(\"/\")[-1]} for x in protoPaths],\n",
    "    \"instance\":[]\n",
    "}\n",
    "\n",
    "for pos,index in zip(positions,protoIndices):\n",
    "    data[\"instance\"].append({\"pos\":list(pos),\"index\":index})\n",
    "\n",
    "with open(\"sample.json\",'w') as f:\n",
    "    json.dump(data,f,indent=2)\n"
   ]
  },
  {
   "cell_type": "code",
   "execution_count": null,
   "metadata": {},
   "outputs": [],
   "source": []
  }
 ],
 "metadata": {
  "kernelspec": {
   "display_name": "Python 3.9.12 ('.venv': pipenv)",
   "language": "python",
   "name": "python3"
  },
  "language_info": {
   "codemirror_mode": {
    "name": "ipython",
    "version": 3
   },
   "file_extension": ".py",
   "mimetype": "text/x-python",
   "name": "python",
   "nbconvert_exporter": "python",
   "pygments_lexer": "ipython3",
   "version": "3.9.12"
  },
  "orig_nbformat": 4,
  "vscode": {
   "interpreter": {
    "hash": "72f8fe68ea22db33838c6be92ed4985d348560247eeaec091cda138c3f57c3e0"
   }
  }
 },
 "nbformat": 4,
 "nbformat_minor": 2
}
