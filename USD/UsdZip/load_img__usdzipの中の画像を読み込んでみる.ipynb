{
 "cells": [
  {
   "cell_type": "code",
   "execution_count": 7,
   "metadata": {},
   "outputs": [],
   "source": [
    "from pxr import Usd,Ar"
   ]
  },
  {
   "cell_type": "markdown",
   "metadata": {},
   "source": [
    "```\n",
    "#usda 1.0\n",
    "(\n",
    "    defaultPrim = \"sample\"\n",
    ")\n",
    "\n",
    "def \"sample\"\n",
    "{\n",
    "    asset imgPath = @./Houdini_black_color.png@\n",
    "    # このファイルに↑用の変換パラメーターなどを一緒に保存しておく\n",
    "}\n",
    "```\n",
    "usda はこんな感じ。  \n",
    "設定ファイルに画像ファイルを使いたい場合などに、使用したい画像のパスを書いておく。  \n",
    "それで、 usdzip を使用して usda と 画像ファイルを1ファイルにしておく。  \n",
    "  \n",
    "texUsdzip/Houdini_balck_color.png  \n",
    "__________/texUsdzip.usda  "
   ]
  },
  {
   "cell_type": "code",
   "execution_count": 3,
   "metadata": {},
   "outputs": [],
   "source": [
    "# 画像+パラメーターが入っているusdaを usdzにしたものを用意。\n",
    "stage = Usd.Stage.Open(\"sample.usdz\")\n",
    "prim = stage.GetDefaultPrim()"
   ]
  },
  {
   "cell_type": "code",
   "execution_count": 53,
   "metadata": {},
   "outputs": [
    {
     "name": "stdout",
     "output_type": "stream",
     "text": [
      "d:\\work\\notebooks\\USD\\UsdZip\\sample.usdz[work/HoudiniWork/CreateParamSample/usd/texUsdzip/Houdini_black_color.png]\n"
     ]
    }
   ],
   "source": [
    "# imgPath アトリビュートには、パラメーターとワンセットで使いたい画像ファイルのパスを assetとして保持\n",
    "assetPath = prim.GetAttribute(\"imgPath\").Get()\n",
    "# assetPathは resolvedPath すると、usdz内のどこにあるかを取得できる。\n",
    "print(assetPath.resolvedPath)"
   ]
  },
  {
   "cell_type": "code",
   "execution_count": 43,
   "metadata": {},
   "outputs": [],
   "source": [
    "# UsdZipFile で usdz を開いて、その中から画像ファイルをGetFile を使用して bitearray で画像情報を取得。\n",
    "usdzip =Usd.ZipFile.Open(\"sample.usdz\")\n",
    "\n",
    "path = assetPath.resolvedPath.split(\"[\")[-1][:-1]\n",
    "img = usdzip.GetFile(path)"
   ]
  },
  {
   "cell_type": "code",
   "execution_count": 51,
   "metadata": {},
   "outputs": [
    {
     "data": {
      "image/png": "[encoded data removed]",
      "text/plain": [
       "<PIL.PngImagePlugin.PngImageFile image mode=RGBA size=728x124>"
      ]
     },
     "execution_count": 51,
     "metadata": {},
     "output_type": "execute_result"
    }
   ],
   "source": [
    "from PIL import Image, ImageOps\n",
    "import io\n",
    "\n",
    "# 画像を表示\n",
    "i = Image.open(io.BytesIO(img))\n",
    "i\n"
   ]
  },
  {
   "cell_type": "code",
   "execution_count": null,
   "metadata": {},
   "outputs": [],
   "source": []
  }
 ],
 "metadata": {
  "kernelspec": {
   "display_name": "Python 3.9.12 ('.venv': pipenv)",
   "language": "python",
   "name": "python3"
  },
  "language_info": {
   "codemirror_mode": {
    "name": "ipython",
    "version": 3
   },
   "file_extension": ".py",
   "mimetype": "text/x-python",
   "name": "python",
   "nbconvert_exporter": "python",
   "pygments_lexer": "ipython3",
   "version": "3.9.12"
  },
  "orig_nbformat": 4,
  "vscode": {
   "interpreter": {
    "hash": "72f8fe68ea22db33838c6be92ed4985d348560247eeaec091cda138c3f57c3e0"
   }
  }
 },
 "nbformat": 4,
 "nbformat_minor": 2
}
